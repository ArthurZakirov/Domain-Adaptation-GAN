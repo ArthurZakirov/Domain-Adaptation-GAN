{
 "cells": [
  {
   "cell_type": "markdown",
   "id": "5e3c6955",
   "metadata": {},
   "source": [
    "# Data Preparation"
   ]
  },
  {
   "cell_type": "markdown",
   "id": "1efeb934",
   "metadata": {},
   "source": [
    "The datasat preprocessing is copyied from the DANN experiment. If you want to replicate the training, please download the dataset from this link: https://github.com/sghoshjr/tf-dann/releases/download/v1.0.0/mnistm.h5\n",
    "\n",
    "And set the variable:  \"MNIST_M_PATH\""
   ]
  },
  {
   "cell_type": "markdown",
   "id": "37ad849e",
   "metadata": {},
   "source": [
    "# Training "
   ]
  },
  {
   "cell_type": "code",
   "execution_count": null,
   "id": "19077276",
   "metadata": {},
   "outputs": [],
   "source": [
    "from src.trainer import Trainer\n",
    "from src.dataset import prepare_data"
   ]
  },
  {
   "cell_type": "code",
   "execution_count": 6,
   "id": "51e4620a",
   "metadata": {},
   "outputs": [],
   "source": [
    "class Arguments():\n",
    "    pass\n",
    "args = Arguments()\n",
    "args.lr = 0.01\n",
    "args.logdir = 'logs'\n",
    "args.eval_every = 1\n",
    "args.epochs_stage_1 = 3\n",
    "args.epochs_stage_2 = 3\n",
    "args.reverse_gradients = False"
   ]
  },
  {
   "cell_type": "code",
   "execution_count": 7,
   "id": "939a601c",
   "metadata": {},
   "outputs": [
    {
     "name": "stdout",
     "output_type": "stream",
     "text": [
      "Epoch 1/3\n",
      "157/157 [==============================] - 18s 106ms/step - loss: 1.6613 - val_loss: 0.9778\n",
      "Epoch 2/3\n",
      "157/157 [==============================] - 16s 103ms/step - loss: 0.8907 - val_loss: 1.1217\n",
      "Epoch 3/3\n",
      "157/157 [==============================] - 19s 119ms/step - loss: 0.7250 - val_loss: 0.9192\n"
     ]
    },
    {
     "data": {
      "application/vnd.jupyter.widget-view+json": {
       "model_id": "647c6bc90e3f41dea341fbb5b34809a6",
       "version_major": 2,
       "version_minor": 0
      },
      "text/plain": [
       "epochs:   0%|          | 0/3 [00:00<?, ?it/s]"
      ]
     },
     "metadata": {},
     "output_type": "display_data"
    },
    {
     "data": {
      "application/vnd.jupyter.widget-view+json": {
       "model_id": "",
       "version_major": 2,
       "version_minor": 0
      },
      "text/plain": [
       "train batches:   0%|          | 0/157 [00:00<?, ?it/s]"
      ]
     },
     "metadata": {},
     "output_type": "display_data"
    },
    {
     "data": {
      "application/vnd.jupyter.widget-view+json": {
       "model_id": "",
       "version_major": 2,
       "version_minor": 0
      },
      "text/plain": [
       "eval batches: 0it [00:00, ?it/s]"
      ]
     },
     "metadata": {},
     "output_type": "display_data"
    },
    {
     "data": {
      "application/vnd.jupyter.widget-view+json": {
       "model_id": "",
       "version_major": 2,
       "version_minor": 0
      },
      "text/plain": [
       "train batches:   0%|          | 0/157 [00:00<?, ?it/s]"
      ]
     },
     "metadata": {},
     "output_type": "display_data"
    },
    {
     "data": {
      "application/vnd.jupyter.widget-view+json": {
       "model_id": "",
       "version_major": 2,
       "version_minor": 0
      },
      "text/plain": [
       "eval batches: 0it [00:00, ?it/s]"
      ]
     },
     "metadata": {},
     "output_type": "display_data"
    },
    {
     "data": {
      "application/vnd.jupyter.widget-view+json": {
       "model_id": "",
       "version_major": 2,
       "version_minor": 0
      },
      "text/plain": [
       "train batches:   0%|          | 0/157 [00:00<?, ?it/s]"
      ]
     },
     "metadata": {},
     "output_type": "display_data"
    },
    {
     "data": {
      "application/vnd.jupyter.widget-view+json": {
       "model_id": "",
       "version_major": 2,
       "version_minor": 0
      },
      "text/plain": [
       "eval batches: 0it [00:00, ?it/s]"
      ]
     },
     "metadata": {},
     "output_type": "display_data"
    }
   ],
   "source": [
    "if __name__ == \"__main__\":\n",
    "    ds_stage_1_train, ds_stage_1_test, ds_stage_2_train, ds_stage_2_test = prepare_data()\n",
    "    model = Trainer(args)\n",
    "    model.train_stage_1(ds_stage_1_train, ds_stage_1_test)\n",
    "    model.train_stage_2(ds_stage_2_train, ds_stage_2_test)"
   ]
  },
  {
   "cell_type": "markdown",
   "id": "74434374",
   "metadata": {},
   "source": [
    "# Metrics"
   ]
  },
  {
   "cell_type": "code",
   "execution_count": null,
   "id": "06c0cdc3",
   "metadata": {},
   "outputs": [
    {
     "name": "stdout",
     "output_type": "stream",
     "text": [
      "Serving TensorBoard on localhost; to expose to the network, use a proxy or pass --bind_all\r\n",
      "TensorBoard 2.4.0 at http://localhost:6006/ (Press CTRL+C to quit)\r\n"
     ]
    }
   ],
   "source": [
    "!tensorboard --logdir logs"
   ]
  },
  {
   "cell_type": "markdown",
   "id": "fb94ea67",
   "metadata": {},
   "source": [
    "# Visualization"
   ]
  },
  {
   "cell_type": "code",
   "execution_count": null,
   "id": "c5b1e4c7",
   "metadata": {},
   "outputs": [],
   "source": [
    "import matplotlib.pyplot as plt"
   ]
  },
  {
   "cell_type": "code",
   "execution_count": null,
   "id": "c1c70db9",
   "metadata": {},
   "outputs": [],
   "source": [
    "num_samples = 6\n",
    "fig, ax = plt.subplots(num_samples, 2, figsize=(20,20))\n",
    "batch = next(iter(ds_stage_2_train))\n",
    "x_source, y_source, x_target = batch\n",
    "y_pred_pre = model.model_1(x_target)\n",
    "y_pred = model.model_2(x_target)\n",
    "\n",
    "L_clf = CCELoss()(y_source, y_pred)\n",
    "L_clf_pre = CCELoss()(y_source, y_pred_pre)\n",
    "\n",
    "for i in range(num_samples):\n",
    "    ax[i, 0].imshow(x_source[i])\n",
    "    ax[i, 1].imshow(x_target[i])\n",
    "    ax[i, 1].set_title(f'Prediction: {y_pred.numpy().argmax(axis=-1)[i]}')\n",
    "plt.tight_layout()\n",
    "plt.show()"
   ]
  }
 ],
 "metadata": {
  "kernelspec": {
   "display_name": "Python [conda env:torch] *",
   "language": "python",
   "name": "conda-env-torch-py"
  },
  "language_info": {
   "codemirror_mode": {
    "name": "ipython",
    "version": 3
   },
   "file_extension": ".py",
   "mimetype": "text/x-python",
   "name": "python",
   "nbconvert_exporter": "python",
   "pygments_lexer": "ipython3",
   "version": "3.8.8"
  }
 },
 "nbformat": 4,
 "nbformat_minor": 5
}
